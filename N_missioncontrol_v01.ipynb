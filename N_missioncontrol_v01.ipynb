{
  "nbformat": 4,
  "nbformat_minor": 0,
  "metadata": {
    "colab": {
      "provenance": [],
      "authorship_tag": "ABX9TyPvu5fusJG9P677aKbNFKJG",
      "include_colab_link": true
    },
    "kernelspec": {
      "name": "python3",
      "display_name": "Python 3"
    },
    "language_info": {
      "name": "python"
    }
  },
  "cells": [
    {
      "cell_type": "markdown",
      "metadata": {
        "id": "view-in-github",
        "colab_type": "text"
      },
      "source": [
        "<a href=\"https://colab.research.google.com/github/PranjalNawarkar/CosmoShox_NASA/blob/main/N_missioncontrol_v01.ipynb\" target=\"_parent\"><img src=\"https://colab.research.google.com/assets/colab-badge.svg\" alt=\"Open In Colab\"/></a>"
      ]
    },
    {
      "cell_type": "code",
      "execution_count": 8,
      "metadata": {
        "id": "8svKF0QLvuO1"
      },
      "outputs": [],
      "source": [
        "\n",
        "import random\n"
      ]
    },
    {
      "cell_type": "code",
      "source": [
        "\n",
        "nasa_text = \"\"\"\n",
        "Houston, we have liftoff!\n",
        "Eagle has landed on the lunar surface.\n",
        "The Mars rover is transmitting new images.\n",
        "Astronauts conduct spacewalk to repair the space station.\n",
        "Mission control monitors telemetry data closely.\n",
        "\"\"\"\n"
      ],
      "metadata": {
        "id": "Okpw-zogvv0O"
      },
      "execution_count": 9,
      "outputs": []
    },
    {
      "cell_type": "code",
      "source": [
        "# Split NASA text into sentences\n",
        "sentences = nasa_text.split(\".\")\n"
      ],
      "metadata": {
        "id": "0MoR2RWfv8ui"
      },
      "execution_count": 10,
      "outputs": []
    },
    {
      "cell_type": "code",
      "source": [
        "# Randomly choose and print a sentence\n",
        "chosen_sentence = random.choice(sentences)\n",
        "print(chosen_sentence)\n"
      ],
      "metadata": {
        "colab": {
          "base_uri": "https://localhost:8080/"
        },
        "id": "ndpZbB_3wAxz",
        "outputId": "67fc4c84-fb5e-4d72-e2b0-5a930d6853a9"
      },
      "execution_count": 11,
      "outputs": [
        {
          "output_type": "stream",
          "name": "stdout",
          "text": [
            "\n",
            "The Mars rover is transmitting new images\n"
          ]
        }
      ]
    },
    {
      "cell_type": "code",
      "source": [
        "# Initialize an empty dictionary\n",
        "chain = {}\n",
        "\n",
        "# Process NASA text to build the chain\n",
        "for sentence in nasa_text.split(\".\"):\n",
        "    words = sentence.split()\n",
        "    for i in range(len(words)-1):\n",
        "        current_word, next_word = words[i], words[i+1]\n",
        "        # Add or update word pairs in the chain\n",
        "        if current_word not in chain:\n",
        "            chain[current_word] = {next_word: 1}\n",
        "        else:\n",
        "            if next_word in chain[current_word]:\n",
        "                chain[current_word][next_word] += 1\n",
        "            else:\n",
        "                chain[current_word][next_word] = 1\n"
      ],
      "metadata": {
        "id": "HLYRNPNOwFFi"
      },
      "execution_count": 12,
      "outputs": []
    },
    {
      "cell_type": "code",
      "source": [
        "start_word = \"\"\n",
        "max_length = 10\n",
        "\n",
        "# Generate sentence using the chain, handling missing keys\n",
        "generated_text = [start_word]\n",
        "for _ in range(max_length-1):\n",
        "    current_word = generated_text[-1]\n",
        "\n",
        "    # If the current word is not in the chain, choose a random word from all available keys\n",
        "    if current_word not in chain:\n",
        "        next_word = random.choice(list(chain.keys()))\n",
        "    else:\n",
        "        next_word = random.choices(list(chain[current_word].keys()), weights=list(chain[current_word].values()))[0]\n",
        "\n",
        "    generated_text.append(next_word)\n",
        "\n",
        "print(\" \".join(generated_text))\n"
      ],
      "metadata": {
        "colab": {
          "base_uri": "https://localhost:8080/"
        },
        "id": "pRSu8-XUwKaH",
        "outputId": "f04d1032-9a4b-44f4-d50e-8d65b66af61e"
      },
      "execution_count": 25,
      "outputs": [
        {
          "output_type": "stream",
          "name": "stdout",
          "text": [
            " liftoff! Eagle has landed on the lunar surface space\n"
          ]
        }
      ]
    }
  ]
}