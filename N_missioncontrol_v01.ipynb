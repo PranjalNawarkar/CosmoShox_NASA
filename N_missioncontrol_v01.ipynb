{
  "nbformat": 4,
  "nbformat_minor": 0,
  "metadata": {
    "colab": {
      "provenance": []
    },
    "kernelspec": {
      "name": "python3",
      "display_name": "Python 3"
    },
    "language_info": {
      "name": "python"
    }
  },
  "cells": [
    {
      "cell_type": "code",
      "execution_count": 26,
      "metadata": {
        "id": "8svKF0QLvuO1"
      },
      "outputs": [],
      "source": [
        "\n",
        "import random\n"
      ]
    },
    {
      "cell_type": "code",
      "source": [
        "\n",
        "nasa_text = \"\"\"\n",
        "Houston, we have liftoff!\n",
        "Eagle has landed on the lunar surface.\n",
        "The Mars rover is transmitting new images.\n",
        "Astronauts conduct spacewalk to repair the space station.\n",
        "Mission control monitors telemetry data closely.\n",
        "\"\"\"\n"
      ],
      "metadata": {
        "id": "Okpw-zogvv0O"
      },
      "execution_count": 27,
      "outputs": []
    },
    {
      "cell_type": "code",
      "source": [
        "# Splitting NASA text into sentences\n",
        "sentences = nasa_text.split(\".\")\n"
      ],
      "metadata": {
        "id": "0MoR2RWfv8ui"
      },
      "execution_count": 28,
      "outputs": []
    },
    {
      "cell_type": "code",
      "source": [
        "# Randomly choosing and printing a sentence from NASA_text\n",
        "chosen_sentence = random.choice(sentences)\n",
        "print(chosen_sentence)\n"
      ],
      "metadata": {
        "colab": {
          "base_uri": "https://localhost:8080/"
        },
        "id": "ndpZbB_3wAxz",
        "outputId": "1902e704-f3d3-4dee-a46f-49d0e6c26302"
      },
      "execution_count": 29,
      "outputs": [
        {
          "output_type": "stream",
          "name": "stdout",
          "text": [
            "\n",
            "Mission control monitors telemetry data closely\n"
          ]
        }
      ]
    },
    {
      "cell_type": "code",
      "source": [
        "\n",
        "chain = {}\n",
        "\n",
        "for sentence in nasa_text.split(\".\"):\n",
        "    words = sentence.split()\n",
        "    for i in range(len(words)-1):\n",
        "        current_word, next_word = words[i], words[i+1]\n",
        "\n",
        "        if current_word not in chain:\n",
        "            chain[current_word] = {next_word: 1}\n",
        "        else:\n",
        "            if next_word in chain[current_word]:\n",
        "                chain[current_word][next_word] += 1\n",
        "            else:\n",
        "                chain[current_word][next_word] = 1\n"
      ],
      "metadata": {
        "id": "HLYRNPNOwFFi"
      },
      "execution_count": 30,
      "outputs": []
    },
    {
      "cell_type": "code",
      "source": [
        "start_word = \"\"\n",
        "max_length = 10\n",
        "\n",
        "# Generating sentence using the chain\n",
        "generated_text = [start_word]\n",
        "for _ in range(max_length-1):\n",
        "    current_word = generated_text[-1]\n",
        "\n",
        "\n",
        "    if current_word not in chain:\n",
        "        next_word = random.choice(list(chain.keys()))\n",
        "    else:\n",
        "        next_word = random.choices(list(chain[current_word].keys()), weights=list(chain[current_word].values()))[0]\n",
        "\n",
        "    generated_text.append(next_word)\n",
        "\n",
        "print(\" \".join(generated_text))\n"
      ],
      "metadata": {
        "colab": {
          "base_uri": "https://localhost:8080/"
        },
        "id": "pRSu8-XUwKaH",
        "outputId": "51cbf8d5-53d2-4b22-bb69-a9e830f1da2f"
      },
      "execution_count": 31,
      "outputs": [
        {
          "output_type": "stream",
          "name": "stdout",
          "text": [
            " on the lunar surface Mission control monitors telemetry data\n"
          ]
        }
      ]
    }
  ]
}